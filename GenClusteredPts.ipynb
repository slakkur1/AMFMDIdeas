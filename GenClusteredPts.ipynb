{
 "cells": [
  {
   "cell_type": "markdown",
   "metadata": {},
   "source": [
    "The following generates points uniformly around a source point. This is not the best scheme since the points in a cluster look rectangular. Refer to \"ClusteringTry1\" to see how to generate bivariate normal random points around a source point"
   ]
  },
  {
   "cell_type": "code",
   "execution_count": 26,
   "metadata": {
    "collapsed": false
   },
   "outputs": [],
   "source": [
    "def clusters(init_pt,deviation,num_additional):\n",
    "    import random\n",
    "    source = [1,3]\n",
    "\n",
    "    deviationFromPoint = deviation\n",
    "    numberOfAdditionalPoints = num_additional\n",
    "    xcoord = []\n",
    "    ycoord = []\n",
    "    for i in range(num_additional):\n",
    "        newx, newy = [init_pt[i] + random.random() * deviation for i in range(2)]\n",
    "        xcoord.append(newx)\n",
    "        ycoord.append(newy)\n",
    "    return(xcoord,ycoord)"
   ]
  },
  {
   "cell_type": "code",
   "execution_count": 16,
   "metadata": {
    "collapsed": true
   },
   "outputs": [],
   "source": [
    "%matplotlib inline\n",
    "import matplotlib.pyplot as plt"
   ]
  },
  {
   "cell_type": "code",
   "execution_count": 41,
   "metadata": {
    "collapsed": false
   },
   "outputs": [
    {
     "data": {
      "text/plain": [
       "[-5, 25, -5, 25]"
      ]
     },
     "execution_count": 41,
     "metadata": {},
     "output_type": "execute_result"
    },
    {
     "name": "stderr",
     "output_type": "stream",
     "text": [
      "/Users/sandyalakkur/anaconda/envs/py3k/lib/python3.4/site-packages/matplotlib/collections.py:590: FutureWarning: elementwise comparison failed; returning scalar instead, but in the future will perform elementwise comparison\n",
      "  if self._edgecolors == str('face'):\n"
     ]
    },
    {
     "data": {
      "image/png": "[encoded data removed]",
      "text/plain": [
       "<matplotlib.figure.Figure at 0x1074d8c18>"
      ]
     },
     "metadata": {},
     "output_type": "display_data"
    }
   ],
   "source": [
    "import numpy as np\n",
    "x1,y1 = clusters([1,3],7,150)\n",
    "x2,y2 = clusters([10,11],7,150)\n",
    "x3,y3 = clusters([5,13],7,150)\n",
    "x4,y4 = clusters([11,4],7,150)\n",
    "xcoord = np.r_[x1,x2,x3,x4]\n",
    "ycoord = np.r_[y1,y2,y3,y4]\n",
    "plt.scatter(xcoord,ycoord)\n",
    "plt.axis([-5,25,-5,25])"
   ]
  },
  {
   "cell_type": "code",
   "execution_count": null,
   "metadata": {
    "collapsed": true
   },
   "outputs": [],
   "source": []
  }
 ],
 "metadata": {
  "kernelspec": {
   "display_name": "Python 3",
   "language": "python",
   "name": "python3"
  },
  "language_info": {
   "codemirror_mode": {
    "name": "ipython",
    "version": 3
   },
   "file_extension": ".py",
   "mimetype": "text/x-python",
   "name": "python",
   "nbconvert_exporter": "python",
   "pygments_lexer": "ipython3",
   "version": "3.4.3"
  }
 },
 "nbformat": 4,
 "nbformat_minor": 0
}
