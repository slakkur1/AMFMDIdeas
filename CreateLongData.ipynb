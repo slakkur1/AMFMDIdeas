{
 "cells": [
  {
   "cell_type": "markdown",
   "metadata": {},
   "source": [
    "The following notebook goes through the process of creating the dataset needed to construct the Bayesian model which analyzes the relationship between farm infection status and various other farm covariates.\n",
    "\n",
    "The following function simulates one outbreak and returns an array of: farmID, infection status as an indicator variable, distance of each farm to the index infected farm, number of cows at each farm, and number of sheep at each farm. Thus if we are interested in a simulation with 500 farms, this function will return an array that is 500x5."
   ]
  },
  {
   "cell_type": "code",
   "execution_count": 65,
   "metadata": {
    "collapsed": false
   },
   "outputs": [
    {
     "name": "stderr",
     "output_type": "stream",
     "text": [
      "/Users/sandyalakkur/anaconda/envs/py3k/lib/python3.4/site-packages/IPython/kernel/__main__.py:61: DeprecationWarning: using a non-integer number instead of an integer will result in an error in the future\n",
      "/Users/sandyalakkur/anaconda/envs/py3k/lib/python3.4/site-packages/IPython/kernel/__main__.py:94: DeprecationWarning: using a non-integer number instead of an integer will result in an error in the future\n",
      "/Users/sandyalakkur/anaconda/envs/py3k/lib/python3.4/site-packages/IPython/kernel/__main__.py:103: DeprecationWarning: using a non-integer number instead of an integer will result in an error in the future\n"
     ]
    },
    {
     "data": {
      "text/plain": [
       "array([[  1.00000000e+00,   0.00000000e+00,   0.00000000e+00,\n",
       "          2.50000000e+02,   2.50000000e+02],\n",
       "       [  2.00000000e+00,   0.00000000e+00,   6.56989389e-01,\n",
       "          2.50000000e+02,   2.50000000e+02],\n",
       "       [  3.00000000e+00,   0.00000000e+00,   9.36146705e-01,\n",
       "          2.50000000e+02,   2.50000000e+02],\n",
       "       ..., \n",
       "       [  9.98000000e+02,   1.00000000e+00,   2.62560755e+01,\n",
       "          2.50000000e+02,   2.50000000e+02],\n",
       "       [  9.99000000e+02,   0.00000000e+00,   2.51401969e+01,\n",
       "          2.50000000e+02,   2.50000000e+02],\n",
       "       [  1.00000000e+03,   1.00000000e+00,   2.53760693e+01,\n",
       "          2.50000000e+02,   2.50000000e+02]])"
      ]
     },
     "execution_count": 65,
     "metadata": {},
     "output_type": "execute_result"
    }
   ],
   "source": [
    "def Outbreaks(Size,N,Y0,farms,start,end,x,y,Maxtime=1000):\n",
    "    #This is an attempt of converting the Matlab Program 7.6 Code into Python\n",
    "    import numpy as np\n",
    "    import pandas as pd\n",
    "    from math import pi\n",
    "    #Generate dataset (assume there are the same amount of animals at each farm)\n",
    "    #np.random.seed(10)\n",
    "    #x = Size*np.random.rand(N)\n",
    "    #np.random.seed(11)\n",
    "    #y = Size*np.random.rand(N)\n",
    "    Cows = np.array([250]*N)  #Number of cows at each farm\n",
    "    Sheep = np.array([250]*N)  #Number of cows at each farm\n",
    "    Status = np.array([0]*N)    #Initial Status of each farm\n",
    "    for i in range(Y0):\n",
    "        Status[i] = 1\n",
    "\n",
    "    #Cows are 10.5 times more susceptible to disease than sheep\n",
    "    Suscept = Sheep+10.5*Cows\n",
    "    Transmiss = 5.1e-7*Sheep + 7.7e-7*Cows \n",
    "\n",
    "    #Calculates which grid square a particular location is in (turn a 2-d coordinate into a scalar)\n",
    "    def WhichGrid(x,y,XRange,YRange,XNum,YNum):\n",
    "        #Essentially: floor(Unif[0,1)griddim)griddim+floor(Unif[0,1)griddim)+1\n",
    "        #Returns a number from 1 to griddim^2\n",
    "        return(np.floor(x*(XNum/XRange))*YNum+np.floor(y*(YNum/YRange))+1)\n",
    "\n",
    "    #Set up the grid\n",
    "    grid = WhichGrid(x,y,Size,Size,10.0,10.0)\n",
    "    tmp = sorted(grid) #Sort grid values\n",
    "    i = np.argsort(grid) #get indexed values after sort\n",
    "    x = x[i]\n",
    "    y = y[i]\n",
    "    Status = Status[i]\n",
    "    grid = grid[i]\n",
    "    Xgrid = []\n",
    "    Ygrid = []\n",
    "    Num = []\n",
    "    first_in_grid = []\n",
    "    last_in_grid = []\n",
    "    Max_Sus_grid = []\n",
    "    for i in range(1,int(max(grid))+1):\n",
    "        #turn the grid square number into an x-coordinate and y-coordinate (should not exceed XNum)\n",
    "        Xgrid.append(np.floor((i-1)/10))\n",
    "        Ygrid.append((i-1)%10)\n",
    "        m = np.array(np.where(grid==i))\n",
    "        Num.append(m.shape[1])\n",
    "    \n",
    "        if Num[i-1] > 0:\n",
    "            first_in_grid.append(m.min()+1) #Add the \"+1\" here so the indicies match those in the Keeling code\n",
    "            last_in_grid.append(m.max()+1)\n",
    "            Max_Sus_grid.append(Suscept[m].max())\n",
    "        else:\n",
    "            first_in_grid.append(0)\n",
    "            last_in_grid.append(-1)\n",
    "            Max_Sus_grid.append(0)\n",
    "\n",
    "    #Work out grid to maximum grid transmission probabilities\n",
    "    from numpy import ndarray\n",
    "    MaxRate = ndarray((max(grid),max(grid)))\n",
    "    def Kernel(dist_squared):\n",
    "        dist_squared = np.asarray(dist_squared)\n",
    "        is_scalar = False if dist_squared.ndim > 0 else True\n",
    "        dist_squared.shape = (1,)*(1-dist_squared.ndim) + dist_squared.shape\n",
    "        K = 1 / (pi * (1 + dist_squared**2))\n",
    "        K[(dist_squared < 0.0138)] = 0.3093\n",
    "        K[(dist_squared > 60*60)] = 0\n",
    "        return(K if not is_scalar else K[0])\n",
    "\n",
    "    #Determine maximum number of animals to be infected in each grid square\n",
    "\n",
    "    for i in range (1,int(max(grid))+1):\n",
    "       for j in range(1,int(max(grid))+1):\n",
    "           if ((i-1)==(j-1)) | (Num[i-1]==0) | (Num[j-1] == 0):\n",
    "               MaxRate[i-1,j-1] = np.inf\n",
    "           else:\n",
    "               Dist2 = (Size*max([0,(abs(Xgrid[i-1]-Xgrid[j-1])-1)])/10)**2+(Size*max([0,(abs(Ygrid[i-1]-Ygrid[j-1])-1)])/10)**2\n",
    "               MaxRate[i-1,j-1] = Max_Sus_grid[j-1]*Kernel(Dist2)\n",
    "\n",
    "    #Susceptible, Exposed, Infectious, Reported.==> latent period is 4 days\n",
    "    i=1; S=len(np.where(Status==0)); E=len(np.where(np.logical_and(Status>0, Status<=5)));I=len(np.where(np.logical_and(Status>5, Status<=9))); R=len(np.where(Status==10)); R2=len(np.where(Status>9)); CullSheep=0; CullCattle=0;\n",
    "    i=i+1;  IterateFlag=1;\n",
    "\n",
    "    def Iterate(Status, x, y, Suscept, Transmiss, grid, first_in_grid, last_in_grid, Num, MaxRate):\n",
    "        Event = 0*Status\n",
    "        INF = np.where(np.logical_and(Status>5, Status<=12))[0]\n",
    "        NI = INF.size # Note reported farms still infectious\n",
    "        IGrids = grid[INF]-1\n",
    "        \n",
    "        for ii in range(NI):\n",
    "            INFi = INF[ii]\n",
    "            trans = np.multiply(-Transmiss[INFi],Num) #transmissibility of infected farm to all other grid squares \n",
    "            maxr = MaxRate[IGrids[ii],:] #max number of animals to be infected in infected grid square\n",
    "            # Elementwise multiplication\n",
    "            rate = np.multiply(trans, maxr) #max number of animals to be infected in each grid square based on infected grid square\n",
    "            MaxProb = 1 - np.exp(rate) #Max probability that infected farm infected noninfected farm\n",
    "            rng = np.random.rand(len(MaxProb))\n",
    "            m = np.where((MaxProb - rng)>0)[0]  #these grid squares need further consideration\n",
    "            for n in range(len(m)):\n",
    "                s = 1\n",
    "                M = m[n]\n",
    "                PAB = 1 - np.exp(-Transmiss[INFi]*MaxRate[IGrids[ii],M]) #Max probability that infected farm infects noninfected farms under consideration\n",
    "                if (PAB == 1):\n",
    "                    # Calculate the infection probability for each farm in the susceptible grid\n",
    "                    leng = last_in_grid[M]-first_in_grid[M]+1\n",
    "                    R = np.random.rand(leng)\n",
    "                    for j in range(leng):\n",
    "                        ind1 = first_in_grid[M]+j-1\n",
    "                        Q = 1 - np.exp(-Transmiss[INFi]*Suscept[ind1]*Kernel((x[INFi]-x[ind1]**2+(y[INFi]-y[ind1])**2)))\n",
    "                        if ((R[j] < Q) & (Status[ind1] == 0)):\n",
    "                            Event[ind1] = 1\n",
    "                else:\n",
    "                    R = np.random.rand(Num[M])\n",
    "                    # Loop through all susceptible farms in the grids where an infection event occurred.  \n",
    "                    for j in range(Num[M]):\n",
    "                        P = 1 - s*(1 - PAB)**(Num[M] - j)\n",
    "                        if (R[j] < (PAB / P)):\n",
    "                            s = 0\n",
    "                            ind1=first_in_grid[M]+j-1\n",
    "                            Q=1-np.exp(-Transmiss[INFi]*Suscept[ind1]*Kernel((x[INFi]-x[ind1]**2+(y[INFi]-y[ind1])**2)))\n",
    "                            if ((R[j]< Q/P) & (Status[ind1] == 0)):\n",
    "                                Event[ind1] = 1\n",
    "        # Evolve the infection process of those farms which have been exposed and already infectious ones.  \n",
    "        Status[Status > 0] += 1\n",
    "        Status = Status + Event\n",
    "        m=np.where(Status==13); # Initiate Ring Culling Around Reported Farm\n",
    "        for i in range(len(m)):\n",
    "            Status[m[i]]=-1;\n",
    "        return {'Status':Status,'NI':NI}\n",
    "    \n",
    "    S=[]\n",
    "    E=[]\n",
    "    I=[]\n",
    "    R=[]\n",
    "    R2=[]\n",
    "    CullSheep=[]\n",
    "    CullCattle=[]\n",
    "    t=[]\n",
    "    t.append(0)\n",
    "    results = np.c_[np.array([1]*N),np.arange(1,N+1),np.array([0]*N)]\n",
    "    \n",
    "    while(np.logical_and(t[-1]<Maxtime, IterateFlag)):\n",
    "        Status=Iterate(Status, x, y, Suscept, Transmiss, grid, first_in_grid, last_in_grid, Num, MaxRate)['Status']\n",
    "        Sus=np.where(Status==0)[0]; Exp=np.where(np.logical_and(Status>0, Status<=5))[0]; Inf=np.where(np.logical_and(Status>5, Status<=9))[0]; \n",
    "        Rep=np.where(Status>9)[0]; Culled=np.where(Status<0)[0];\n",
    "        S.append(len(Sus)); E.append(len(Exp)); I.append(len(Inf)); R.append(len(np.where(Status==10))); R2.append(len(Rep));CullSheep.append(np.sum(Sheep[Culled])); CullCattle.append(np.sum(Cows[Culled]))\n",
    "        t.append(t[i-2]+1);i+=1;\n",
    "    \n",
    "        #This is how I stop the simulation (all farms are infected)\n",
    "        if t[-1]>5:\n",
    "            if (E[-4]+I[-4]+R2[-4]==0):\n",
    "                IterateFlag=0\n",
    "        from scipy.stats import itemfreq\n",
    "        sim_num = np.array([i-1]*N)\n",
    "        seq = np.arange(1,N+1)\n",
    "        results_full = np.r_[results,np.c_[sim_num,seq,Status]]\n",
    "        results = results_full\n",
    "\n",
    "    #Return information regarding only farm of interest\n",
    "    this = results_full[np.logical_or.reduce([results_full[:,1] == x for x in farms])]\n",
    "    #Extract rows relating to timepoint of interest\n",
    "    no_this = this[this[:,0]==end]\n",
    "    #turn status to an indicator\n",
    "    Status_ind = (np.logical_and(no_this[:,2]>5,no_this[:,2]<13)).astype(int)\n",
    "    #Calculate distance to index farm - first infected is first in list of coords\n",
    "    coords = list(zip(x,y))\n",
    "    index = np.array((coords[0][0],coords[0][1]))\n",
    "    dist = []\n",
    "    dist.append(0)\n",
    "    for i in range(1,N):\n",
    "        b = np.array((coords[i][0],coords[i][1]))\n",
    "        dist.append(np.linalg.norm(index-b))\n",
    "    to_return = np.c_[no_this[:,1],Status_ind,dist,Cows,Sheep]\n",
    "    #Returns array: farmID, Status_ind, dist_to_index, num_Cows,num_Sheep\n",
    "    return(to_return)\n",
    "    \n",
    "    \n",
    "#import numpy as np\n",
    "#Size = 20\n",
    "#N = 1000    \n",
    "#x = Size*np.random.rand(N)\n",
    "#y = Size*np.random.rand(N)     \n",
    "#Outbreaks(Size=Size,N=N,Y0=1,farms = np.arange(1,N+1),start=20,end=30,x=x,y=y)"
   ]
  },
  {
   "cell_type": "markdown",
   "metadata": {},
   "source": [
    "Now that we have working code to generate a dataset for one outbreak, we need to be able to simulate the outbreak multiple times. The following code performs this action and adds a column indicating which outbreak simulation the data corresponds to. Thus, if there are 500 farms in the simulation and we repeat the simulation 10 times, the followinf code will generate an array that is 5000x5."
   ]
  },
  {
   "cell_type": "code",
   "execution_count": 84,
   "metadata": {
    "collapsed": false,
    "scrolled": true
   },
   "outputs": [
    {
     "name": "stderr",
     "output_type": "stream",
     "text": [
      "/Users/sandyalakkur/anaconda/envs/py3k/lib/python3.4/site-packages/IPython/kernel/__main__.py:61: DeprecationWarning: using a non-integer number instead of an integer will result in an error in the future\n",
      "/Users/sandyalakkur/anaconda/envs/py3k/lib/python3.4/site-packages/IPython/kernel/__main__.py:94: DeprecationWarning: using a non-integer number instead of an integer will result in an error in the future\n",
      "/Users/sandyalakkur/anaconda/envs/py3k/lib/python3.4/site-packages/IPython/kernel/__main__.py:103: DeprecationWarning: using a non-integer number instead of an integer will result in an error in the future\n"
     ]
    }
   ],
   "source": [
    "import numpy as np\n",
    "Size = 20\n",
    "N = 1000    \n",
    "x = Size*np.random.rand(N)\n",
    "y = Size*np.random.rand(N)\n",
    "Outbreak = Outbreaks(Size=Size,N=N,Y0=1,farms = np.arange(1,N+1),start=20,end=30,x=x,y=y)\n",
    "Num_outbreaks = 100\n",
    "for i in range(Num_outbreaks):\n",
    "    new_Outbreak = np.r_[Outbreak,Outbreaks(Size=Size,N=N,Y0=1,farms = np.arange(1,N+1),start=20,end=30,x=x,y=y)]\n",
    "    Outbreak = new_Outbreak \n",
    "run = np.ravel(list([i]*N for i in range(1,Num_outbreaks+2)))\n",
    "data = np.c_[run,Outbreak]"
   ]
  },
  {
   "cell_type": "code",
   "execution_count": 85,
   "metadata": {
    "collapsed": false
   },
   "outputs": [
    {
     "data": {
      "text/plain": [
       "(101000, 6)"
      ]
     },
     "execution_count": 85,
     "metadata": {},
     "output_type": "execute_result"
    }
   ],
   "source": [
    "#For ease turn data array into data frame\n",
    "import pandas as pd\n",
    "df = pd.DataFrame(data)\n",
    "df.columns = ['run','farmID','Status','DistToIndex','NumCows','NumSheep']\n",
    "df.shape"
   ]
  },
  {
   "cell_type": "markdown",
   "metadata": {},
   "source": [
    "Now that you have a dataset containing information from multiple outbreak we can attempt to fit a random intercept model, where the group in this case is the simulation run. We are assuming here that there is some correlation of becoming infected within a simulation but not between, thus \"run\" will act as a random effect. NOTE: when you ran this the first time you had the same number of cows and sheep at each farm causing the model to not converge. If you think of this in the least-squares sense you have a non-invertible coefficient matrix. For this reason you need to have some randomness in the number of sheep and cows per farm."
   ]
  },
  {
   "cell_type": "code",
   "execution_count": 117,
   "metadata": {
    "collapsed": false
   },
   "outputs": [],
   "source": [
    "#THIS MODEL DIDN'T CONVERGE, NEED MORE ITERATIONS OR CHANGE PRIORS\n",
    "run = df['run']\n",
    "dist = df['DistToIndex']\n",
    "cows = df['NumCows']\n",
    "sheep = df['NumSheep']\n",
    "status = df['Status']\n",
    "from pymc import Normal, Binomial, Gamma, Lambda, invlogit, MCMC, Matplot\n",
    "N = df.shape[0]\n",
    "\n",
    "def varying_intercept():\n",
    "    \n",
    "    # Priors\n",
    "    mu_a = Normal('mu_a', mu=0., tau=0.0001)\n",
    "    tau_a = Gamma('tau_a', 1, 0.1, value=1)\n",
    "    \n",
    "    # Random intercepts\n",
    "    a = Normal('a', mu=mu_a, tau=tau_a, size=len(set(run)))\n",
    "    # Common slope\n",
    "    b = Normal('b', mu=0., tau=0.0001, value = [0]*3)\n",
    "    \n",
    "    prob = Lambda('prob', lambda a=a, b=b: invlogit(a[run-1] + b[0]*dist + b[1]*cows + b[2]*sheep))\n",
    "    \n",
    "    y = Binomial('y', n=N, p=prob, value=status, observed=True)\n",
    "    \n",
    "    return locals()"
   ]
  },
  {
   "cell_type": "code",
   "execution_count": 121,
   "metadata": {
    "collapsed": false
   },
   "outputs": [
    {
     "name": "stdout",
     "output_type": "stream",
     "text": [
      " [-----------------100%-----------------] 10000 of 10000 complete in 522.8 sec"
     ]
    },
    {
     "name": "stderr",
     "output_type": "stream",
     "text": [
      "/Users/sandyalakkur/anaconda/envs/py3k/lib/python3.4/site-packages/IPython/kernel/__main__.py:20: DeprecationWarning: non integer (and non boolean) array-likes will not be accepted as indices in the future\n"
     ]
    }
   ],
   "source": [
    "chains = 2\n",
    "iterations = 10000\n",
    "burn = 5000\n",
    "M_pooled = MCMC(varying_intercept())\n",
    "#M_pooled.use_step_method(AdaptiveMetropolis, M_pooled.beta)\n",
    "for i in range(chains):\n",
    "    M_pooled.sample(iterations, burn)"
   ]
  },
  {
   "cell_type": "code",
   "execution_count": 123,
   "metadata": {
    "collapsed": false
   },
   "outputs": [
    {
     "data": {
      "image/png": "[encoded data removed]",
      "text/plain": [
       "<matplotlib.figure.Figure at 0x108fcf278>"
      ]
     },
     "metadata": {},
     "output_type": "display_data"
    }
   ],
   "source": [
    "%matplotlib inline\n",
    "import matplotlib.pyplot as plt\n",
    "Matplot.summary_plot(M_pooled.b)"
   ]
  },
  {
   "cell_type": "code",
   "execution_count": 124,
   "metadata": {
    "collapsed": false
   },
   "outputs": [
    {
     "name": "stdout",
     "output_type": "stream",
     "text": [
      "Plotting b_0\n",
      "Plotting b_1\n",
      "Plotting b_2\n"
     ]
    },
    {
     "name": "stderr",
     "output_type": "stream",
     "text": [
      "/Users/sandyalakkur/anaconda/envs/py3k/lib/python3.4/site-packages/matplotlib/collections.py:590: FutureWarning: elementwise comparison failed; returning scalar instead, but in the future will perform elementwise comparison\n",
      "  if self._edgecolors == str('face'):\n"
     ]
    },
    {
     "data": {
      "image/png": "[encoded data removed]",
      "text/plain": [
       "<matplotlib.figure.Figure at 0x10907d630>"
      ]
     },
     "metadata": {},
     "output_type": "display_data"
    }
   ],
   "source": [
    "Matplot.plot(M_pooled.b, common_scale=False)"
   ]
  },
  {
   "cell_type": "code",
   "execution_count": 125,
   "metadata": {
    "collapsed": false
   },
   "outputs": [
    {
     "name": "stdout",
     "output_type": "stream",
     "text": [
      "\n",
      "b:\n",
      " \n",
      "\tMean             SD               MC Error        95% HPD interval\n",
      "\t------------------------------------------------------------------\n",
      "\t0.069            0.001            0.0              [ 0.066  0.071]\n",
      "\t3.298            0.004            0.0              [ 3.295  3.307]\n",
      "\t-3.127           0.004            0.0              [-3.135 -3.124]\n",
      "\t\n",
      "\t\n",
      "\tPosterior quantiles:\n",
      "\t\n",
      "\t2.5             25              50              75             97.5\n",
      "\t |---------------|===============|===============|---------------|\n",
      "\t0.066            0.068           0.069          0.07          0.071\n",
      "\t3.294            3.296           3.297          3.299         3.307\n",
      "\t-3.135           -3.128          -3.125         -3.125        -3.123\n",
      "\t\n"
     ]
    }
   ],
   "source": [
    "M_pooled.b.summary()"
   ]
  },
  {
   "cell_type": "code",
   "execution_count": null,
   "metadata": {
    "collapsed": true
   },
   "outputs": [],
   "source": [
    "#NEED TO RUN MORE ITERATIONS TO REACH CONVERGENCE"
   ]
  }
 ],
 "metadata": {
  "kernelspec": {
   "display_name": "Python 3",
   "language": "python",
   "name": "python3"
  },
  "language_info": {
   "codemirror_mode": {
    "name": "ipython",
    "version": 3
   },
   "file_extension": ".py",
   "mimetype": "text/x-python",
   "name": "python",
   "nbconvert_exporter": "python",
   "pygments_lexer": "ipython3",
   "version": "3.4.3"
  }
 },
 "nbformat": 4,
 "nbformat_minor": 0
}
