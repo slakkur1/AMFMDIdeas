{
 "metadata": {
  "name": "",
  "signature": "sha256:9ff1cc64638a2fb66f8e18175093f9f1073644bb908dc9326f1dec979536aec9"
 },
 "nbformat": 3,
 "nbformat_minor": 0,
 "worksheets": [
  {
   "cells": [
    {
     "cell_type": "markdown",
     "metadata": {},
     "source": [
      "# Background \n",
      "* Pure Python, and Python with numpy are not very fast\n",
      "* Use profiling (check CPU time, data transfer) to see where code is bottlenecking"
     ]
    },
    {
     "cell_type": "code",
     "collapsed": false,
     "input": [
      "#This times your code using time.time()\n",
      "import time\n",
      "time.time()\n",
      "start_time = time.time()\n",
      "#This is a factorial, reduce applies a function to two arguments iteratively, in this case across values 1 to 9999\n",
      "reduce(lambda a,b: a*b, range(1, 10000)) \n",
      "end_time = time.time()\n",
      "\n",
      "end_time - start_time"
     ],
     "language": "python",
     "metadata": {},
     "outputs": [
      {
       "metadata": {},
       "output_type": "pyout",
       "prompt_number": 12,
       "text": [
        "0.031239986419677734"
       ]
      }
     ],
     "prompt_number": 12
    },
    {
     "cell_type": "code",
     "collapsed": false,
     "input": [
      "#See if you can make your own code for the trapezoidal rule\n",
      "def traprule(a,b, N, function):\n",
      "    X = range (a,b+1)\n",
      "    ((b-a)/2*N)*(def function: )\n",
      "    "
     ],
     "language": "python",
     "metadata": {},
     "outputs": []
    }
   ],
   "metadata": {}
  }
 ]
}