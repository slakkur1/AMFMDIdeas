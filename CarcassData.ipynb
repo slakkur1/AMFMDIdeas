{
 "metadata": {
  "name": "",
  "signature": "sha256:aa695e46b3609bf0d568de9c7accf631f2b36f692ec566fb3e1af1773fb3a615"
 },
 "nbformat": 3,
 "nbformat_minor": 0,
 "worksheets": []
}